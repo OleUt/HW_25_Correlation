{
 "cells": [
  {
   "cell_type": "code",
   "execution_count": 1,
   "id": "c372f13d",
   "metadata": {},
   "outputs": [],
   "source": [
    "import math\n",
    "\n",
    "# dataset\n",
    "\n",
    "x = [10, 5, 2, 1, -5]\n",
    "p_x = [0.1, 0.3, 0.2, 0.3, 0.1]\n",
    "\n",
    "y = [20, 10, 2, -2, -8]\n",
    "p_y = [0.1, 0.3, 0.2, 0.3, 0.1]\n",
    "\n",
    "data = [[0.01, 0.03, 0.02, 0.03, 0.01], \n",
    "        [0.03, 0.09, 0.06, 0.09, 0.03], \n",
    "        [0.02, 0.06, 0.04, 0.06, 0.02], \n",
    "        [0.03, 0.09, 0.06, 0.09, 0.03], \n",
    "        [0.01, 0.03, 0.02, 0.03, 0.01]]"
   ]
  },
  {
   "cell_type": "code",
   "execution_count": 2,
   "id": "42faeeba",
   "metadata": {},
   "outputs": [],
   "source": [
    "# function to calculate math exp (M), variance (VAR), std deviation (SD), variation coefficient (VC)\n",
    "\n",
    "def statistics(d, p_d):  \n",
    "    m, v = 0, 0\n",
    "    for i in range(len(d)):\n",
    "        m += d[i] * p_d[i]\n",
    "        v += d[i] * d[i] * p_d[i]\n",
    "    var = v - m*m\n",
    "    std_dev = math.sqrt(var)\n",
    "    var_coef = std_dev / m * 100\n",
    "    return m, var, std_dev, var_coef    "
   ]
  },
  {
   "cell_type": "code",
   "execution_count": 3,
   "id": "c1c38262",
   "metadata": {
    "scrolled": true
   },
   "outputs": [
    {
     "name": "stdout",
     "output_type": "stream",
     "text": [
      "M(X)= 2.6999999999999997 VAR(X)= 13.810000000000002 SD(X)= 3.7161808352124095 CV(X)= 137.63632723008925\n",
      "M(Y)= 4.000000000000001 VAR(Y)= 62.4 SD(Y)= 7.899367063252599 CV(Y)= 197.48417658131496\n"
     ]
    }
   ],
   "source": [
    "# calculation of math exp (M), variance (VAR), std deviation (SD), variation coefficient (VC)\n",
    "\n",
    "m_x, var_x, st_dev_x, cv_x = statistics(x, p_x)\n",
    "print('M(X)=', m_x, 'VAR(X)=', var_x, 'SD(X)=', st_dev_x, 'CV(X)=', cv_x)\n",
    "\n",
    "m_y, var_y, st_dev_y, cv_y = statistics(y, p_y)\n",
    "print('M(Y)=', m_y, 'VAR(Y)=', var_y, 'SD(Y)=', st_dev_y, 'CV(Y)=', cv_y)"
   ]
  },
  {
   "cell_type": "code",
   "execution_count": 4,
   "id": "dcf7e113",
   "metadata": {},
   "outputs": [
    {
     "name": "stdout",
     "output_type": "stream",
     "text": [
      "M(XY)= 10.799999999999999\n"
     ]
    }
   ],
   "source": [
    "# calculation of M(XY)\n",
    "m_xy = 0\n",
    "for j in range(len(y)):\n",
    "    data_row = data[j]\n",
    "    for i in range(len(x)):\n",
    "        m_xy += y[j] * x[i] * data_row[i]\n",
    "print('M(XY)=', m_xy)"
   ]
  },
  {
   "cell_type": "code",
   "execution_count": 5,
   "id": "3d89fc65",
   "metadata": {},
   "outputs": [
    {
     "name": "stdout",
     "output_type": "stream",
     "text": [
      "cov(xy)= -1.7763568394002505e-15\n",
      "r = -6.051194024934088e-17\n"
     ]
    }
   ],
   "source": [
    "# covariation\n",
    "cov = m_xy - m_x * m_y\n",
    "print('cov(xy)=', cov)\n",
    "\n",
    "# correlation\n",
    "r = cov / (st_dev_x * st_dev_y)\n",
    "print('r =', r)"
   ]
  },
  {
   "cell_type": "code",
   "execution_count": 6,
   "id": "a7216e01",
   "metadata": {},
   "outputs": [],
   "source": [
    "# 1. Норма прибутку з акції Х = 2.7, з акції Y = 4.0.\n",
    "# 2. Ступень ризику по акції Y (SD = 7.9, CV = 197%) вища ніж по акції Х (SD = 3.7, CV = 137%).\n",
    "# 3. Covariation (XY) and correlation coefficient (XY) = 0. No correlation between X and Y."
   ]
  }
 ],
 "metadata": {
  "kernelspec": {
   "display_name": "Python 3 (ipykernel)",
   "language": "python",
   "name": "python3"
  },
  "language_info": {
   "codemirror_mode": {
    "name": "ipython",
    "version": 3
   },
   "file_extension": ".py",
   "mimetype": "text/x-python",
   "name": "python",
   "nbconvert_exporter": "python",
   "pygments_lexer": "ipython3",
   "version": "3.11.1"
  }
 },
 "nbformat": 4,
 "nbformat_minor": 5
}
