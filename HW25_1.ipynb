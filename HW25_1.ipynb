{
 "cells": [
  {
   "cell_type": "code",
   "execution_count": 1,
   "id": "0f82b5d1",
   "metadata": {},
   "outputs": [],
   "source": [
    "import math\n",
    "\n",
    "# Dataset\n",
    "x = [3, 2, 1, 0]\n",
    "y = [0, 1, 2, 3]\n",
    "px = 0.6\n",
    "n = 3"
   ]
  },
  {
   "cell_type": "code",
   "execution_count": 2,
   "id": "d50a77d5",
   "metadata": {},
   "outputs": [
    {
     "name": "stdout",
     "output_type": "stream",
     "text": [
      "probability x = 3, y = 0 : 0.21599999999999997\n",
      "probability x = 2, y = 1 : 0.43200000000000005\n",
      "probability x = 1, y = 2 : 0.28800000000000003\n",
      "probability x = 0, y = 3 : 0.06400000000000002\n"
     ]
    }
   ],
   "source": [
    "# Probabilities for Binomial distribution\n",
    "# n - number of attempts, k and p - number and probability of positive outcomes\n",
    "\n",
    "def binom(n, k, p):    \n",
    "    c = math.factorial(n) / (math.factorial(k) * math.factorial(n-k))\n",
    "    binom_probability = c * p**k * (1-p)**(n-k)\n",
    "    return binom_probability\n",
    "\n",
    "pr = []\n",
    "for i in range(n+1):\n",
    "    probability_x = binom(n, x[i], px) \n",
    "    print(f'probability x = {x[i]}, y = {y[i]} :', probability_x)\n",
    "    pr.append(probability_x)\n"
   ]
  },
  {
   "cell_type": "code",
   "execution_count": 3,
   "id": "eb991242",
   "metadata": {},
   "outputs": [
    {
     "name": "stdout",
     "output_type": "stream",
     "text": [
      "Pearson correlation coefficient = -1.0\n"
     ]
    }
   ],
   "source": [
    "# correlation\n",
    "\n",
    "mx = n * px\n",
    "my = n * (1-px)\n",
    "\n",
    "sum_ab = 0\n",
    "sum_a2 = 0\n",
    "sum_b2 = 0\n",
    "\n",
    "for j in range(n+1):\n",
    "    a = x[j] - mx\n",
    "    b = y[j] - my\n",
    "    ab = a * b\n",
    "    sum_ab += ab\n",
    "    \n",
    "    a2 = a**2 \n",
    "    b2 = b**2\n",
    "    sum_a2 += a2\n",
    "    sum_b2 += b2\n",
    "\n",
    "r = sum_ab / math.sqrt(sum_a2 * sum_b2)\n",
    "\n",
    "print('Pearson correlation coefficient =', r)\n"
   ]
  }
 ],
 "metadata": {
  "kernelspec": {
   "display_name": "Python 3 (ipykernel)",
   "language": "python",
   "name": "python3"
  },
  "language_info": {
   "codemirror_mode": {
    "name": "ipython",
    "version": 3
   },
   "file_extension": ".py",
   "mimetype": "text/x-python",
   "name": "python",
   "nbconvert_exporter": "python",
   "pygments_lexer": "ipython3",
   "version": "3.11.1"
  }
 },
 "nbformat": 4,
 "nbformat_minor": 5
}
